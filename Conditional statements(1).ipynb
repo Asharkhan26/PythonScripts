{
 "cells": [
  {
   "cell_type": "markdown",
   "metadata": {},
   "source": [
    "# Conditional statements: \"if\", \"else\", \"elif\""
   ]
  },
  {
   "cell_type": "markdown",
   "metadata": {},
   "source": [
    "In the previous session, all programming code was executed in a sequential manner, i.e., each statement was executed starting from the first at the top of the script and proceeding to the last at the end.\n",
    "\n",
    "However sometimes it is necessary to execute some statements, but not others depending on a condition.\n",
    "\n",
    "### The if-statement\n",
    "\n",
    "The **if-statement** is a multi-line statement. In the first line, the logical value of some expression is checked. The following indented line or lines (note they **must** be indented by the same number of white-spaces, usually 4!) contain statements that will be executed if the logical value is `True`. For example:"
   ]
  },
  {
   "cell_type": "code",
   "execution_count": null,
   "metadata": {},
   "outputs": [],
   "source": [
    "# the user assigns some value to variable \"a\":\n",
    "a = 5"
   ]
  },
  {
   "cell_type": "code",
   "execution_count": null,
   "metadata": {},
   "outputs": [],
   "source": [
    "# the \"if\" statement checks if the value is greater than 1;\n",
    "# if this is true, the indented block of code (here, it is the print statement) will be executed"
   ]
  },
  {
   "cell_type": "code",
   "execution_count": null,
   "metadata": {},
   "outputs": [],
   "source": [
    "if a > 1:\n",
    "    print(\"a is greater than 1\")"
   ]
  },
  {
   "cell_type": "code",
   "execution_count": null,
   "metadata": {},
   "outputs": [],
   "source": [
    "# we can first evaluate some expression and store the result of the evaluation (either True or\n",
    "# False) in a separate variable, and then check it in an \"if\" statement:\n",
    "result = a > 1\n",
    "print(result)"
   ]
  },
  {
   "cell_type": "code",
   "execution_count": null,
   "metadata": {},
   "outputs": [],
   "source": [
    "result = a > 1\n",
    "if result:\n",
    "    print(\"a is greater than 1\")"
   ]
  },
  {
   "cell_type": "code",
   "execution_count": null,
   "metadata": {},
   "outputs": [],
   "source": [
    "# What happens if a equals -5? Change the code above and find out."
   ]
  },
  {
   "cell_type": "markdown",
   "metadata": {},
   "source": [
    "### The if-else statement\n",
    "\n",
    "The **if-else** statement is similar, but it lets you write some statements that should be executed when the condition is `True`, and some other statements that should be executed when the condition is `False`.\n",
    "\n",
    "As before, notice that the statements that are conditionally executed **must** be indented! "
   ]
  },
  {
   "cell_type": "code",
   "execution_count": null,
   "metadata": {},
   "outputs": [],
   "source": [
    "a = 10\n",
    "if a > 5:\n",
    "    print(\"a is greater than 5\")\n",
    "else:\n",
    "    print(\"a is less than 5\")"
   ]
  },
  {
   "cell_type": "markdown",
   "metadata": {},
   "source": [
    "### The if-elif-else statement\n",
    "\n",
    "Finally, the **if-elif-else** statement makes it possible to check multiple conditions and execute multiple alternative blocks of code."
   ]
  },
  {
   "cell_type": "code",
   "execution_count": null,
   "metadata": {},
   "outputs": [],
   "source": [
    "a = 5\n",
    "if a > 5:\n",
    "    print(\"a is greater than 5\")\n",
    "elif a < 5:\n",
    "    print(\"a is less than 5\")\n",
    "else:\n",
    "    print(\"a equals 5\")"
   ]
  },
  {
   "cell_type": "markdown",
   "metadata": {},
   "source": [
    "### Multiple conditions in one if-statement"
   ]
  },
  {
   "cell_type": "markdown",
   "metadata": {},
   "source": [
    "One can check multiple conditions in one if-statement, using `and` and `or` operators."
   ]
  },
  {
   "cell_type": "code",
   "execution_count": null,
   "metadata": {},
   "outputs": [],
   "source": [
    "a = 5\n",
    "b = 10\n",
    "\n",
    "if a > 3 and b < 5:\n",
    "    print(\"Condition 1 met!\")\n",
    "\n",
    "if a < 7 or b < 10:\n",
    "    print(\"Condition 2 met!\")\n",
    "\n",
    "if a > 7 or b == 10:\n",
    "    print(\"Condition 3 met!\")"
   ]
  },
  {
   "cell_type": "markdown",
   "metadata": {},
   "source": [
    "Parentheses can be used to group multiple conditions:"
   ]
  },
  {
   "cell_type": "code",
   "execution_count": null,
   "metadata": {},
   "outputs": [],
   "source": [
    "a = 5\n",
    "b = 10\n",
    "if (a < 3 and b < 5) or (a > 3 and b > 8):\n",
    "    print(\"The condition is met!\")"
   ]
  },
  {
   "cell_type": "code",
   "execution_count": null,
   "metadata": {},
   "outputs": [],
   "source": [
    "a = 1\n",
    "b = 7\n",
    "if (a < 3 and b < 5) or (a > 3 and b > 5):\n",
    "    print(\"The condition is met!\")"
   ]
  },
  {
   "cell_type": "markdown",
   "metadata": {},
   "source": [
    "The **not** keyword can reverse the logical value of an expression."
   ]
  },
  {
   "cell_type": "code",
   "execution_count": null,
   "metadata": {},
   "outputs": [],
   "source": [
    "a = 5\n",
    "if a < 3:\n",
    "    print(\"a is less than 3\")\n",
    "if not a < 3:\n",
    "    print(\"a is NOT less than 3\")"
   ]
  },
  {
   "cell_type": "markdown",
   "metadata": {},
   "source": [
    "The **not** keyword is useful when multiple conditions are checked. For example, check that it is NOT the case that \"a\" is less than 5 and \"b\" is less than 10:"
   ]
  },
  {
   "cell_type": "code",
   "execution_count": null,
   "metadata": {},
   "outputs": [],
   "source": [
    "a = 3\n",
    "b = 11\n",
    "if not (a < 3 and b < 10):\n",
    "    print(\"It is NOT the case that both a is less than 3 and b is less than 10\")\n",
    "else:\n",
    "    print(\"Either a is less than 3 or b is less than 10\")"
   ]
  },
  {
   "cell_type": "markdown",
   "metadata": {},
   "source": [
    "Multiple conditions can be checked using nested if-statements. They are longer to write, but easier to read:"
   ]
  },
  {
   "cell_type": "code",
   "execution_count": null,
   "metadata": {},
   "outputs": [],
   "source": [
    "if a < 3:\n",
    "    if b < 5:\n",
    "        print(\"Condition 1\")\n",
    "    else:\n",
    "        print(\"Condition 2\")\n",
    "elif a > 3:\n",
    "    if b > 8:\n",
    "        print(\"Condition 3\")\n",
    "    else:\n",
    "        print(\"Condition 4\")\n",
    "else:\n",
    "    print(\"None of the four conditions is met\")"
   ]
  },
  {
   "cell_type": "markdown",
   "metadata": {},
   "source": [
    "### Checking for equality"
   ]
  },
  {
   "cell_type": "markdown",
   "metadata": {},
   "source": [
    "One can check equality of numerical values as well as equality of strings using the \"equal\" (**==**) and the \"unequal\" (**!=**) statements:"
   ]
  },
  {
   "cell_type": "code",
   "execution_count": null,
   "metadata": {},
   "outputs": [],
   "source": [
    "a = 5\n",
    "if a == 5:\n",
    "    print(\"a equals 5\")"
   ]
  },
  {
   "cell_type": "code",
   "execution_count": null,
   "metadata": {},
   "outputs": [],
   "source": [
    "if a != 10:\n",
    "    print(\"a is not equal to 10\")"
   ]
  },
  {
   "cell_type": "code",
   "execution_count": null,
   "metadata": {},
   "outputs": [],
   "source": [
    "x = \"Hello\"\n",
    "if x == \"Hello\":\n",
    "    print(\"x equals 'Hello'\")"
   ]
  },
  {
   "cell_type": "code",
   "execution_count": null,
   "metadata": {},
   "outputs": [],
   "source": [
    "if x != \"Hi\":\n",
    "    print(\"x is not equal to 'Hi'\")"
   ]
  },
  {
   "cell_type": "code",
   "execution_count": null,
   "metadata": {},
   "outputs": [],
   "source": []
  }
 ],
 "metadata": {
  "kernelspec": {
   "display_name": "Python 3",
   "language": "python",
   "name": "python3"
  },
  "language_info": {
   "codemirror_mode": {
    "name": "ipython",
    "version": 3
   },
   "file_extension": ".py",
   "mimetype": "text/x-python",
   "name": "python",
   "nbconvert_exporter": "python",
   "pygments_lexer": "ipython3",
   "version": "3.8.8"
  }
 },
 "nbformat": 4,
 "nbformat_minor": 2
}
