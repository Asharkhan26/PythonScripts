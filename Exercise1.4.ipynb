{
 "cells": [
  {
   "cell_type": "code",
   "execution_count": 14,
   "id": "79687117",
   "metadata": {},
   "outputs": [
    {
     "name": "stdout",
     "output_type": "stream",
     "text": [
      "a\n",
      "12\n",
      "25\n"
     ]
    }
   ],
   "source": [
    "weekday = input()\n",
    "month = input()\n",
    "day = input()"
   ]
  },
  {
   "cell_type": "code",
   "execution_count": 16,
   "id": "317b9f66",
   "metadata": {},
   "outputs": [
    {
     "name": "stdout",
     "output_type": "stream",
     "text": [
      "Alarm!\n"
     ]
    }
   ],
   "source": [
    "if (month == 12 and day == 25):\n",
    "    print(\"No Alarm!\")\n",
    "else:\n",
    "    print(\"Alarm!\")"
   ]
  },
  {
   "cell_type": "code",
   "execution_count": null,
   "id": "bd813603",
   "metadata": {},
   "outputs": [],
   "source": []
  }
 ],
 "metadata": {
  "kernelspec": {
   "display_name": "Python 3",
   "language": "python",
   "name": "python3"
  },
  "language_info": {
   "codemirror_mode": {
    "name": "ipython",
    "version": 3
   },
   "file_extension": ".py",
   "mimetype": "text/x-python",
   "name": "python",
   "nbconvert_exporter": "python",
   "pygments_lexer": "ipython3",
   "version": "3.8.8"
  }
 },
 "nbformat": 4,
 "nbformat_minor": 5
}
