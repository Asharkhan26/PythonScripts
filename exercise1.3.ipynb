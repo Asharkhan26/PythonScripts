{
 "cells": [
  {
   "cell_type": "markdown",
   "id": "1cbb5f96",
   "metadata": {},
   "source": [
    "## Exercise 1.3"
   ]
  },
  {
   "cell_type": "markdown",
   "id": "323bcba2",
   "metadata": {},
   "source": [
    "Getting input Values"
   ]
  },
  {
   "cell_type": "code",
   "execution_count": 6,
   "id": "6369fc14",
   "metadata": {
    "scrolled": true
   },
   "outputs": [
    {
     "name": "stdout",
     "output_type": "stream",
     "text": [
      "cat\n",
      "black\n"
     ]
    }
   ],
   "source": [
    "animal = input()\n",
    "colour = input()"
   ]
  },
  {
   "cell_type": "markdown",
   "id": "bbe38c41",
   "metadata": {},
   "source": [
    "Condition to check "
   ]
  },
  {
   "cell_type": "code",
   "execution_count": 7,
   "id": "f359d0e4",
   "metadata": {},
   "outputs": [
    {
     "name": "stdout",
     "output_type": "stream",
     "text": [
      "It is a black cat\n"
     ]
    }
   ],
   "source": [
    "if animal == 'dog' and colour == 'white':\n",
    "    print(\"It is a white dog\")\n",
    "elif animal == 'cat' and colour == 'black':\n",
    "    print(\"It is a black cat\")\n",
    "else:\n",
    "    print(\"It is neither a white dog, nor a black cat\")"
   ]
  }
 ],
 "metadata": {
  "kernelspec": {
   "display_name": "Python 3",
   "language": "python",
   "name": "python3"
  },
  "language_info": {
   "codemirror_mode": {
    "name": "ipython",
    "version": 3
   },
   "file_extension": ".py",
   "mimetype": "text/x-python",
   "name": "python",
   "nbconvert_exporter": "python",
   "pygments_lexer": "ipython3",
   "version": "3.8.8"
  }
 },
 "nbformat": 4,
 "nbformat_minor": 5
}
