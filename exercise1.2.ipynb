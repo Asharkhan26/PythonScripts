{
 "cells": [
  {
   "cell_type": "code",
   "execution_count": 2,
   "id": "a6d0ee9f",
   "metadata": {},
   "outputs": [
    {
     "name": "stdout",
     "output_type": "stream",
     "text": [
      "False\n"
     ]
    }
   ],
   "source": [
    "x = 1\n",
    "z = isinstance(x, str)\n",
    "print(z)\n",
    "if z is True :\n",
    "    print(\"Please enter a Number\")\n",
    "    exit()"
   ]
  },
  {
   "cell_type": "code",
   "execution_count": 3,
   "id": "e1241046",
   "metadata": {},
   "outputs": [
    {
     "name": "stdout",
     "output_type": "stream",
     "text": [
      "x is odd\n"
     ]
    }
   ],
   "source": [
    "if x%2 == 1:\n",
    "    print(\"x is odd\")\n",
    "elif x%2 != 1 and x%2 != 0:\n",
    "    \n",
    "    print(\"x is a String\")\n",
    "else:\n",
    "    print(\"x is even\")"
   ]
  },
  {
   "cell_type": "markdown",
   "id": "66dd0180",
   "metadata": {},
   "source": []
  }
 ],
 "metadata": {
  "kernelspec": {
   "display_name": "Python 3",
   "language": "python",
   "name": "python3"
  },
  "language_info": {
   "codemirror_mode": {
    "name": "ipython",
    "version": 3
   },
   "file_extension": ".py",
   "mimetype": "text/x-python",
   "name": "python",
   "nbconvert_exporter": "python",
   "pygments_lexer": "ipython3",
   "version": "3.8.8"
  }
 },
 "nbformat": 4,
 "nbformat_minor": 5
}
